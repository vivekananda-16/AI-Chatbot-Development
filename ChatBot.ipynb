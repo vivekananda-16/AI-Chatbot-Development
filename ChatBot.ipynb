{
 "cells": [
  {
   "cell_type": "code",
   "execution_count": null,
   "id": "79772bed",
   "metadata": {},
   "outputs": [
    {
     "name": "stdout",
     "output_type": "stream",
     "text": [
      "\n",
      "I am ChatBot\n"
     ]
    }
   ],
   "source": [
    "import datetime\n",
    "t = datetime.datetime.time(datetime.datetime.now())\n",
    "d = datetime.datetime.date(datetime.datetime.now())\n",
    "chats = {\"Hi\":\"Hello\",\"hi\":\"hello\",\"Hi!\":\"Hello\",\"Hi !\":\"Hello\",\"How are you ?\":\"Fine\",\"What is your name ?\":\"I am ChatBot\",\"What is your name?\":\"I am ChatBot\",\"What is your name\":\"I am ChatBot\",\n",
    "        \"How are you?\":\"Fine\",\"How are you\":\"Fine\",\"Nice to meet you\":\"Nice to meet you too\",\"What date is today?\":f\"Today's date is {d}\",\"What time is now?\":f\"Current time is {t}\"}\n",
    "print(\"\\nI am ChatBot\")\n",
    "while(True):\n",
    "    s = input(\"Ask me anything? (Press 'e' to exit)\\n\")\n",
    "    if s == 'e':\n",
    "        exit(0)\n",
    "    try:\n",
    "        print(chats[s])\n",
    "    except:\n",
    "        print(\"\\nSorry! Unable to understand.\")"
   ]
  }
 ],
 "metadata": {
  "kernelspec": {
   "display_name": "Python 3",
   "language": "python",
   "name": "python3"
  },
  "language_info": {
   "codemirror_mode": {
    "name": "ipython",
    "version": 3
   },
   "file_extension": ".py",
   "mimetype": "text/x-python",
   "name": "python",
   "nbconvert_exporter": "python",
   "pygments_lexer": "ipython3",
   "version": "3.8.8"
  }
 },
 "nbformat": 4,
 "nbformat_minor": 5
}
